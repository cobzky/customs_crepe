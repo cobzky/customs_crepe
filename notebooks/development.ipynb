{
 "cells": [
  {
   "cell_type": "markdown",
   "metadata": {},
   "source": [
    "# Scraping notebook"
   ]
  },
  {
   "cell_type": "code",
   "execution_count": 93,
   "metadata": {},
   "outputs": [],
   "source": [
    "import requests\n",
    "import pandas as pd\n",
    "import numpy as np\n",
    "from bs4 import BeautifulSoup\n",
    "import json\n",
    "from tqdm import tqdm\n",
    "from time import sleep"
   ]
  },
  {
   "cell_type": "code",
   "execution_count": 58,
   "metadata": {},
   "outputs": [],
   "source": []
  },
  {
   "cell_type": "code",
   "execution_count": 74,
   "metadata": {},
   "outputs": [],
   "source": [
    "def grab_country_codes():\n",
    "    country_url =  \"https://trade.ec.europa.eu/access-to-markets/country/get/ALL?lang=en\"\n",
    "    result = requests.get(country_url).json()\n",
    "    \n",
    "    codes = []\n",
    "    \n",
    "    for k in result:\n",
    "        codes.append(k[\"code\"])\n",
    "        \n",
    "    return codes\n",
    "    \n",
    "    \n",
    "    "
   ]
  },
  {
   "cell_type": "code",
   "execution_count": 75,
   "metadata": {},
   "outputs": [],
   "source": [
    "ccodes = grab_country_codes()"
   ]
  },
  {
   "cell_type": "code",
   "execution_count": null,
   "metadata": {},
   "outputs": [],
   "source": [
    "url = \"https://trade.ec.europa.eu/access-to-markets/api/tariffs/get/8507908090/KR/SE?lang=EN\""
   ]
  },
  {
   "cell_type": "code",
   "execution_count": 49,
   "metadata": {},
   "outputs": [],
   "source": [
    "def get_url(product,origin_country,destination_country):\n",
    "    url = \"https://trade.ec.europa.eu/access-to-markets/api/tariffs/get/{}/{}/{}?lang=EN\".format(product,origin_country,destination_country)\n",
    "    return url"
   ]
  },
  {
   "cell_type": "code",
   "execution_count": 88,
   "metadata": {},
   "outputs": [
    {
     "data": {
      "text/plain": [
       "'https://trade.ec.europa.eu/access-to-markets/api/tariffs/get/8507908090/KR/SE?lang=EN'"
      ]
     },
     "execution_count": 88,
     "metadata": {},
     "output_type": "execute_result"
    }
   ],
   "source": [
    "get_url(\"8507908090\",\"KR\",\"SE\")"
   ]
  },
  {
   "cell_type": "code",
   "execution_count": 86,
   "metadata": {},
   "outputs": [],
   "source": [
    "def get_page(url):\n",
    "    r = requests.get(url).json()\n",
    "    return r\n",
    "    "
   ]
  },
  {
   "cell_type": "code",
   "execution_count": 89,
   "metadata": {},
   "outputs": [],
   "source": [
    "result_test = requests.get(\"https://trade.ec.europa.eu/access-to-markets/api/tariffs/get/8507908090/KR/SE?lang=EN\")"
   ]
  },
  {
   "cell_type": "code",
   "execution_count": 90,
   "metadata": {},
   "outputs": [
    {
     "data": {
      "text/plain": [
       "'2.70%'"
      ]
     },
     "execution_count": 90,
     "metadata": {},
     "output_type": "execute_result"
    }
   ],
   "source": [
    "result_test.json()[0][\"measures\"][0][\"tariffFormula\"]"
   ]
  },
  {
   "cell_type": "code",
   "execution_count": 91,
   "metadata": {},
   "outputs": [],
   "source": [
    "json_obj = get_page(get_url(\"8507908090\",\"KR\",\"SE\"))"
   ]
  },
  {
   "cell_type": "code",
   "execution_count": 62,
   "metadata": {},
   "outputs": [],
   "source": [
    "def grab_info(json_obj):\n",
    "    tariff_third = json_obj[0][\"measures\"][0][\"tariffFormula\"]\n",
    "    tariff_pref = json_obj[0][\"measures\"][2][\"tariffFormula\"]\n",
    "    return tariff_third,tariff_pref"
   ]
  },
  {
   "cell_type": "code",
   "execution_count": 63,
   "metadata": {},
   "outputs": [
    {
     "data": {
      "text/plain": [
       "('2.70%', '0%')"
      ]
     },
     "execution_count": 63,
     "metadata": {},
     "output_type": "execute_result"
    }
   ],
   "source": [
    "grab_info(json_obj)"
   ]
  },
  {
   "cell_type": "code",
   "execution_count": 103,
   "metadata": {},
   "outputs": [],
   "source": [
    "def get_info_from_country(ccodes):\n",
    "    tariff_third = []\n",
    "    tariff_pref = []\n",
    "    countries = []\n",
    "    for ccode in tqdm(ccodes):\n",
    "        try:\n",
    "            url = get_url(\"8507908090\",ccode,\"SE\")\n",
    "            json_obj = get_page(url)\n",
    "            a,b = grab_info(json_obj)\n",
    "            tariff_third.append(a)\n",
    "            tariff_pref.append(b)\n",
    "            countries.append(ccode)\n",
    "            #sleep(2)\n",
    "            \n",
    "        except:\n",
    "            pass\n",
    "        \n",
    "    df = pd.DataFrame({\"origin_country\":countries,\"tariff_third\":tariff_third,\"tariff_pref\":tariff_pref})\n",
    "    print(df)\n",
    "    return df\n",
    "        \n",
    "        "
   ]
  },
  {
   "cell_type": "code",
   "execution_count": 104,
   "metadata": {},
   "outputs": [
    {
     "name": "stderr",
     "output_type": "stream",
     "text": [
      "100%|██████████| 233/233 [00:44<00:00,  5.19it/s]"
     ]
    },
    {
     "name": "stdout",
     "output_type": "stream",
     "text": [
      "   origin_country tariff_third tariff_pref\n",
      "0              AF        2.70%          0%\n",
      "1              AL        2.70%          0%\n",
      "2              DZ        2.70%          0%\n",
      "3              AD        2.70%          0%\n",
      "4              AO        2.70%          0%\n",
      "..            ...          ...         ...\n",
      "77             HK        2.70%          0%\n",
      "78             IS        2.70%          0%\n",
      "79             IN        2.70%          0%\n",
      "80             ID        2.70%          0%\n",
      "81             IR        2.70%          0%\n",
      "\n",
      "[82 rows x 3 columns]\n"
     ]
    },
    {
     "name": "stderr",
     "output_type": "stream",
     "text": [
      "\n"
     ]
    }
   ],
   "source": [
    "result_df = get_info_from_country(ccodes)"
   ]
  },
  {
   "cell_type": "code",
   "execution_count": 105,
   "metadata": {},
   "outputs": [
    {
     "data": {
      "text/html": [
       "<div>\n",
       "<style scoped>\n",
       "    .dataframe tbody tr th:only-of-type {\n",
       "        vertical-align: middle;\n",
       "    }\n",
       "\n",
       "    .dataframe tbody tr th {\n",
       "        vertical-align: top;\n",
       "    }\n",
       "\n",
       "    .dataframe thead th {\n",
       "        text-align: right;\n",
       "    }\n",
       "</style>\n",
       "<table border=\"1\" class=\"dataframe\">\n",
       "  <thead>\n",
       "    <tr style=\"text-align: right;\">\n",
       "      <th></th>\n",
       "      <th>origin_country</th>\n",
       "      <th>tariff_third</th>\n",
       "      <th>tariff_pref</th>\n",
       "    </tr>\n",
       "  </thead>\n",
       "  <tbody>\n",
       "    <tr>\n",
       "      <th>0</th>\n",
       "      <td>AF</td>\n",
       "      <td>2.70%</td>\n",
       "      <td>0%</td>\n",
       "    </tr>\n",
       "    <tr>\n",
       "      <th>1</th>\n",
       "      <td>AL</td>\n",
       "      <td>2.70%</td>\n",
       "      <td>0%</td>\n",
       "    </tr>\n",
       "    <tr>\n",
       "      <th>2</th>\n",
       "      <td>DZ</td>\n",
       "      <td>2.70%</td>\n",
       "      <td>0%</td>\n",
       "    </tr>\n",
       "    <tr>\n",
       "      <th>3</th>\n",
       "      <td>AD</td>\n",
       "      <td>2.70%</td>\n",
       "      <td>0%</td>\n",
       "    </tr>\n",
       "    <tr>\n",
       "      <th>4</th>\n",
       "      <td>AO</td>\n",
       "      <td>2.70%</td>\n",
       "      <td>0%</td>\n",
       "    </tr>\n",
       "    <tr>\n",
       "      <th>...</th>\n",
       "      <td>...</td>\n",
       "      <td>...</td>\n",
       "      <td>...</td>\n",
       "    </tr>\n",
       "    <tr>\n",
       "      <th>77</th>\n",
       "      <td>HK</td>\n",
       "      <td>2.70%</td>\n",
       "      <td>0%</td>\n",
       "    </tr>\n",
       "    <tr>\n",
       "      <th>78</th>\n",
       "      <td>IS</td>\n",
       "      <td>2.70%</td>\n",
       "      <td>0%</td>\n",
       "    </tr>\n",
       "    <tr>\n",
       "      <th>79</th>\n",
       "      <td>IN</td>\n",
       "      <td>2.70%</td>\n",
       "      <td>0%</td>\n",
       "    </tr>\n",
       "    <tr>\n",
       "      <th>80</th>\n",
       "      <td>ID</td>\n",
       "      <td>2.70%</td>\n",
       "      <td>0%</td>\n",
       "    </tr>\n",
       "    <tr>\n",
       "      <th>81</th>\n",
       "      <td>IR</td>\n",
       "      <td>2.70%</td>\n",
       "      <td>0%</td>\n",
       "    </tr>\n",
       "  </tbody>\n",
       "</table>\n",
       "<p>82 rows × 3 columns</p>\n",
       "</div>"
      ],
      "text/plain": [
       "   origin_country tariff_third tariff_pref\n",
       "0              AF        2.70%          0%\n",
       "1              AL        2.70%          0%\n",
       "2              DZ        2.70%          0%\n",
       "3              AD        2.70%          0%\n",
       "4              AO        2.70%          0%\n",
       "..            ...          ...         ...\n",
       "77             HK        2.70%          0%\n",
       "78             IS        2.70%          0%\n",
       "79             IN        2.70%          0%\n",
       "80             ID        2.70%          0%\n",
       "81             IR        2.70%          0%\n",
       "\n",
       "[82 rows x 3 columns]"
      ]
     },
     "execution_count": 105,
     "metadata": {},
     "output_type": "execute_result"
    }
   ],
   "source": [
    "result_df"
   ]
  },
  {
   "cell_type": "markdown",
   "metadata": {},
   "source": [
    "# Get products"
   ]
  },
  {
   "cell_type": "code",
   "execution_count": 106,
   "metadata": {},
   "outputs": [],
   "source": [
    "section_url = \"https://trade.ec.europa.eu/access-to-markets/api/v2/nomenclature/products?country=SE&lang=EN\""
   ]
  },
  {
   "cell_type": "code",
   "execution_count": 107,
   "metadata": {},
   "outputs": [],
   "source": [
    "sections = requests.get(section_url).json()"
   ]
  },
  {
   "cell_type": "code",
   "execution_count": 110,
   "metadata": {},
   "outputs": [],
   "source": [
    "def get_ids(sections):\n",
    "    ids = []\n",
    "    for section in sections:\n",
    "        ids.append(section[\"id\"])\n",
    "        \n",
    "    return ids\n",
    "    "
   ]
  },
  {
   "cell_type": "code",
   "execution_count": 111,
   "metadata": {},
   "outputs": [],
   "source": [
    "ids = get_ids(sections)"
   ]
  },
  {
   "cell_type": "code",
   "execution_count": 112,
   "metadata": {},
   "outputs": [
    {
     "data": {
      "text/plain": [
       "[-1,\n",
       " -2,\n",
       " -3,\n",
       " -4,\n",
       " -5,\n",
       " -6,\n",
       " -7,\n",
       " -8,\n",
       " -9,\n",
       " -10,\n",
       " -11,\n",
       " -12,\n",
       " -13,\n",
       " -14,\n",
       " -15,\n",
       " -16,\n",
       " -17,\n",
       " -18,\n",
       " -19,\n",
       " -20,\n",
       " -21]"
      ]
     },
     "execution_count": 112,
     "metadata": {},
     "output_type": "execute_result"
    }
   ],
   "source": [
    "ids"
   ]
  },
  {
   "cell_type": "code",
   "execution_count": 117,
   "metadata": {},
   "outputs": [],
   "source": [
    "class ProductTraverse:\n",
    "    def __init__(self,start_id):\n",
    "        self.start_id = start_id\n",
    "        self.product_codes = []\n",
    "        \n",
    "    def traverse(self,start_id = None):\n",
    "        if start_id == None:\n",
    "            start_id = self.start_id\n",
    "            \n",
    "        url = \"https://trade.ec.europa.eu/access-to-markets/api/v2/nomenclature/products?country=SE&lang=EN&parent={}\".format(start_id)\n",
    "        result = requests.get(url).json()\n",
    "        \n",
    "        for resp in result:\n",
    "            if resp[\"hasChildren\"] == False:\n",
    "                self.product_codes.append(resp[\"code\"])\n",
    "                \n",
    "            else:\n",
    "                self.traverse(start_id = resp[\"id\"])\n",
    "                \n",
    "        return self.product_codes\n",
    "    \n",
    "        "
   ]
  },
  {
   "cell_type": "code",
   "execution_count": 118,
   "metadata": {},
   "outputs": [],
   "source": [
    "pt = ProductTraverse(\"301\")\n",
    "result = pt.traverse()"
   ]
  },
  {
   "cell_type": "code",
   "execution_count": 119,
   "metadata": {},
   "outputs": [
    {
     "data": {
      "text/plain": [
       "['010121',\n",
       " '01012910',\n",
       " '01012990',\n",
       " '010130',\n",
       " '010190',\n",
       " '01022110',\n",
       " '01022130',\n",
       " '01022190',\n",
       " '01022905',\n",
       " '0102291010',\n",
       " '0102291020',\n",
       " '0102291030',\n",
       " '0102291040',\n",
       " '0102291050',\n",
       " '0102291090',\n",
       " '01022921',\n",
       " '0102292910',\n",
       " '0102292920',\n",
       " '0102292930',\n",
       " '0102292940',\n",
       " '0102292950',\n",
       " '0102292990',\n",
       " '01022941',\n",
       " '0102294910',\n",
       " '0102294920',\n",
       " '0102294930',\n",
       " '0102294940',\n",
       " '0102294950',\n",
       " '0102294990',\n",
       " '0102295110',\n",
       " '0102295190',\n",
       " '0102295911',\n",
       " '0102295919',\n",
       " '0102295921',\n",
       " '0102295929',\n",
       " '0102295931',\n",
       " '0102295939',\n",
       " '0102295991',\n",
       " '0102295999',\n",
       " '01022961',\n",
       " '0102296910',\n",
       " '0102296920',\n",
       " '0102296930',\n",
       " '0102296990',\n",
       " '0102299110',\n",
       " '0102299190',\n",
       " '0102299921',\n",
       " '0102299929',\n",
       " '0102299991',\n",
       " '0102299999',\n",
       " '010231',\n",
       " '0102391010',\n",
       " '0102391090',\n",
       " '01023990',\n",
       " '01029020',\n",
       " '0102909110',\n",
       " '0102909190',\n",
       " '01029099',\n",
       " '010310',\n",
       " '01039110',\n",
       " '01039190',\n",
       " '01039211',\n",
       " '01039219',\n",
       " '01039290',\n",
       " '01041010',\n",
       " '01041030',\n",
       " '01041080',\n",
       " '01042010',\n",
       " '01042090',\n",
       " '01051111',\n",
       " '01051119',\n",
       " '01051191',\n",
       " '01051199',\n",
       " '010512',\n",
       " '010513',\n",
       " '010514',\n",
       " '010515',\n",
       " '010594',\n",
       " '01059910',\n",
       " '01059920',\n",
       " '01059930',\n",
       " '01059950',\n",
       " '010611',\n",
       " '010612',\n",
       " '010613',\n",
       " '01061410',\n",
       " '01061490',\n",
       " '010619',\n",
       " '010620',\n",
       " '010631',\n",
       " '010632',\n",
       " '010633',\n",
       " '01063910',\n",
       " '01063980',\n",
       " '010641',\n",
       " '010649',\n",
       " '0106900010',\n",
       " '0106900019',\n",
       " '0106900090']"
      ]
     },
     "execution_count": 119,
     "metadata": {},
     "output_type": "execute_result"
    }
   ],
   "source": [
    "result"
   ]
  }
 ],
 "metadata": {
  "kernelspec": {
   "display_name": "Python 3",
   "language": "python",
   "name": "python3"
  },
  "language_info": {
   "codemirror_mode": {
    "name": "ipython",
    "version": 3
   },
   "file_extension": ".py",
   "mimetype": "text/x-python",
   "name": "python",
   "nbconvert_exporter": "python",
   "pygments_lexer": "ipython3",
   "version": "3.8.10"
  }
 },
 "nbformat": 4,
 "nbformat_minor": 4
}
